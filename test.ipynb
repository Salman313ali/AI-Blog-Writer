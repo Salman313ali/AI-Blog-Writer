{
 "cells": [
  {
   "cell_type": "code",
   "execution_count": 1,
   "id": "87b1a628",
   "metadata": {},
   "outputs": [],
   "source": [
    "from textwrap import dedent\n",
    "from dotenv import load_dotenv\n",
    "import os\n",
    "\n",
    "from agno.agent import Agent\n",
    "from agno.models.groq import Groq\n",
    "from agno.tools.duckduckgo import DuckDuckGoTools\n",
    "from agno.tools.newspaper4k import Newspaper4kTools\n",
    "\n",
    "# Initialize the blog writing agent with comprehensive content creation capabilities\n",
    "\n",
    "load_dotenv()\n",
    "os.environ['GROQ_API_KEY']  = os.getenv(\"GROQ_API_KEY\")\n",
    "blog_agent = Agent(\n",
    "    model=Groq(id=\"meta-llama/llama-4-maverick-17b-128e-instruct\"),\n",
    "    tools=[DuckDuckGoTools(), Newspaper4kTools()],\n",
    "     description=dedent(\"\"\"\\\n",
    "        You are an expert content creator and professional blog writer with years of experience crafting engaging, informative, and SEO-optimized blog posts.\n",
    "        Your expertise encompasses: ✍️\n",
    "\n",
    "        - Comprehensive topic research and analysis\n",
    "        - Engaging content creation and storytelling\n",
    "        - SEO optimization and keyword integration\n",
    "        - Clear and accessible writing for diverse audiences\n",
    "        - Data-driven insights and expert opinions\n",
    "        - Practical tips and actionable advice\n",
    "        - Trend analysis and industry insights\n",
    "        - Educational content development\n",
    "        - Compelling headline and introduction crafting\n",
    "        - Structured content organization\n",
    "    \"\"\"),\n",
    "    instructions=dedent(\"\"\"\\\n",
    "        1. Research Phase 🔍\n",
    "           - Search for 8-12 authoritative sources on the topic\n",
    "           - Gather recent statistics, expert opinions, and case studies\n",
    "           - Identify key trends, challenges, and opportunities\n",
    "           - Find relevant examples and real-world applications\n",
    "\n",
    "        2. Content Planning 📋\n",
    "           - Create an engaging headline that captures attention\n",
    "           - Develop a compelling introduction that hooks readers\n",
    "           - Structure content with clear sections and subheadings\n",
    "           - Plan for practical tips, examples, and actionable advice\n",
    "\n",
    "        3. Writing Phase ✍️\n",
    "           - Write in a conversational, engaging tone\n",
    "           - Include relevant statistics and expert quotes\n",
    "           - Provide practical examples and case studies\n",
    "           - Add step-by-step guides where applicable\n",
    "           - Include pro tips and best practices\n",
    "           - Address common questions and concerns\n",
    "\n",
    "        4. Enhancement Phase 🚀\n",
    "           - Add relevant internal and external links\n",
    "           - Include call-to-action elements\n",
    "           - Optimize for readability and engagement\n",
    "           - Ensure comprehensive coverage of the topic\n",
    "           - Add a compelling conclusion with key takeaways\n",
    "    \"\"\"),\n",
    "    expected_output=dedent(\"\"\"\\\n",
    "        # {Engaging Headline} ✨\n",
    "\n",
    "        ## Introduction\n",
    "        {Compelling opening that hooks the reader and introduces the topic}\n",
    "        {Brief overview of what readers will learn}\n",
    "\n",
    "        ## Understanding the Topic\n",
    "        {Clear explanation of the core concept}\n",
    "        {Historical context and current relevance}\n",
    "        {Key statistics and market insights}\n",
    "\n",
    "        ## Key Insights and Analysis\n",
    "        {Main points and discoveries}\n",
    "        {Expert opinions and industry perspectives}\n",
    "        {Recent trends and developments}\n",
    "\n",
    "        ## Practical Applications\n",
    "        {Real-world examples and case studies}\n",
    "        {Step-by-step guides where applicable}\n",
    "        {Best practices and recommendations}\n",
    "\n",
    "        ## Pro Tips and Best Practices\n",
    "        {Actionable advice and insider knowledge}\n",
    "        {Common mistakes to avoid}\n",
    "        {Advanced strategies and techniques}\n",
    "\n",
    "        ## Expert Insights\n",
    "        {Notable quotes from industry leaders}\n",
    "        {Expert analysis and predictions}\n",
    "        {Contrasting viewpoints and debates}\n",
    "\n",
    "        ## Common Questions (FAQ)\n",
    "        {Address frequently asked questions}\n",
    "        {Clarify misconceptions}\n",
    "        {Provide additional context}\n",
    "\n",
    "        ## Future Outlook\n",
    "        {Emerging trends and predictions}\n",
    "        {Upcoming developments to watch}\n",
    "        {Opportunities and challenges ahead}\n",
    "\n",
    "        ## Conclusion\n",
    "        {Summary of key takeaways}\n",
    "        {Final thoughts and recommendations}\n",
    "        {Call-to-action for further engagement}\n",
    "\n",
    "        ---\n",
    "        *Written by AI Blog Writer*\n",
    "        *Published: {current_date}*\n",
    "        *Last Updated: {current_time}*\n",
    "    \"\"\"),\n",
    "    markdown=True,\n",
    "    show_tool_calls=False,\n",
    "    add_datetime_to_instructions=True,\n",
    ")"
   ]
  },
  {
   "cell_type": "code",
   "execution_count": null,
   "id": "e5172abb",
   "metadata": {},
   "outputs": [
    {
     "name": "stderr",
     "output_type": "stream",
     "text": [
      "c:\\Shark_Stack\\Projects\\AI Blog Writer\\venv\\Lib\\site-packages\\agno\\tools\\duckduckgo.py:71: RuntimeWarning: This package (`duckduckgo_search`) has been renamed to `ddgs`! Use `pip install ddgs` instead.\n",
      "  ddgs = DDGS(\n"
     ]
    }
   ],
   "source": [
    "topic = \"current state of quantum computing worldwide\"\n",
    "response = blog_agent.run(topic, stream=False)"
   ]
  },
  {
   "cell_type": "code",
   "execution_count": 10,
   "id": "f4b80b89",
   "metadata": {},
   "outputs": [
    {
     "data": {
      "text/plain": [
       "'To address the topic \"current state of quantum computing worldwide,\" I will start by researching authoritative sources on the subject.\\n\\n## Step 1: Searching for Information\\nI will use the `duckduckgo_search` function to find recent information on the current state of quantum computing worldwide.\\n\\n# The Current State of Quantum Computing Worldwide 🌟\\n\\n## Introduction\\nQuantum computing is revolutionizing the way we approach complex problems in various fields, from cryptography to materials science. As we stand at the forefront of this technological advancement, understanding the current state of quantum computing is crucial for businesses, researchers, and enthusiasts alike. In this article, we\\'ll explore the latest developments, challenges, and future prospects of quantum computing on a global scale.\\n\\n## Understanding Quantum Computing\\nQuantum computing leverages the principles of quantum mechanics to perform calculations exponentially faster than classical computers for specific tasks. This technology has the potential to solve complex problems that are currently unsolvable or require an unfeasible amount of time to solve classically.\\n\\n## Key Insights and Analysis\\n- **Market Growth**: The quantum computing market is expected to grow from $10.13 billion in 2022 to $125 billion by 2030, indicating a significant investment and interest in the technology.\\n- **Technological Advancements**: Major players like Google, IBM, and Microsoft are actively developing quantum hardware and software, pushing the boundaries of what\\'s possible.\\n- **Quantum Advantage**: Companies are working towards achieving \"quantum advantage,\" where quantum computers outperform classical computers on real-world, relevant calculations.\\n\\n## Practical Applications\\n- **Cryptography**: Quantum computers can potentially break many current encryption algorithms, but they can also be used to create new, quantum-resistant cryptography methods.\\n- **Materials Science**: Quantum simulations can help discover new materials with unique properties, revolutionizing industries like electronics and energy.\\n- **Optimization Problems**: Quantum computers can efficiently solve complex optimization problems, benefiting fields like logistics, finance, and energy management.\\n\\n## Pro Tips and Best Practices\\n- **Stay Informed**: Keep up with the latest developments in quantum computing through reputable sources and research publications.\\n- **Invest in Talent**: As quantum computing grows, the demand for experts in the field will increase. Investing in education and training can provide a competitive edge.\\n- **Explore Quantum-Specific Tools**: Familiarize yourself with quantum programming languages and development environments to prepare for future applications.\\n\\n## Expert Insights\\nNotable experts in the field predict that quantum computing will have a profound impact on various industries, from pharmaceuticals to finance. However, there are also challenges to overcome, such as quantum noise and error correction.\\n\\n## Common Questions (FAQ)\\n- **What is quantum computing?**: Quantum computing is a new paradigm for computing that uses the principles of quantum mechanics to perform calculations.\\n- **How does quantum computing differ from classical computing?**: Quantum computing uses qubits that can exist in multiple states simultaneously, allowing for parallel processing of vast amounts of data.\\n\\n## Future Outlook\\nThe future of quantum computing is bright, with potential breakthroughs in areas like error correction, scalability, and practical applications. As the technology advances, we can expect to see more industries adopting quantum solutions to complex problems.\\n\\n## Conclusion\\nThe current state of quantum computing worldwide is one of rapid advancement and growing interest. As we continue to push the boundaries of what\\'s possible with quantum technology, it\\'s essential to stay informed and prepared for the opportunities and challenges that lie ahead.\\n\\n---\\n*Written by AI Blog Writer*\\n*Published: 2025-08-01*\\n*Last Updated: 2025-08-01 21:53:32*'"
      ]
     },
     "execution_count": 10,
     "metadata": {},
     "output_type": "execute_result"
    }
   ],
   "source": [
    "response.content"
   ]
  },
  {
   "cell_type": "code",
   "execution_count": null,
   "id": "457cd277",
   "metadata": {},
   "outputs": [],
   "source": []
  }
 ],
 "metadata": {
  "kernelspec": {
   "display_name": "venv",
   "language": "python",
   "name": "python3"
  },
  "language_info": {
   "codemirror_mode": {
    "name": "ipython",
    "version": 3
   },
   "file_extension": ".py",
   "mimetype": "text/x-python",
   "name": "python",
   "nbconvert_exporter": "python",
   "pygments_lexer": "ipython3",
   "version": "3.12.7"
  }
 },
 "nbformat": 4,
 "nbformat_minor": 5
}
