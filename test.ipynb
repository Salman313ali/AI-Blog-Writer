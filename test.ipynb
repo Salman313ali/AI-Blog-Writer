{
 "cells": [
  {
   "cell_type": "code",
   "execution_count": null,
   "id": "87b1a628",
   "metadata": {},
   "outputs": [],
   "source": [
    "from textwrap import dedent\n",
    "\n",
    "from agno.agent import Agent\n",
    "from agno.models.groq import Groq\n",
    "from agno.tools.duckduckgo import DuckDuckGoTools\n",
    "from agno.tools.newspaper4k import Newspaper4kTools\n",
    "\n",
    "blog_agent = Agent(\n",
    "    model=Groq(id=\"meta-llama/llama-4-maverick-17b-128e-instruct\"),\n",
    "    tools=[DuckDuckGoTools(), Newspaper4kTools()],\n",
    "    description=dedent(\"\"\"\\\n",
    "        You are an elite investigative journalist with decades of experience at the New York Times.\n",
    "        Your expertise encompasses: 📰\n",
    "\n",
    "        - Deep investigative research and analysis\n",
    "        - Meticulous fact-checking and source verification\n",
    "        - Compelling narrative construction\n",
    "        - Data-driven reporting and visualization\n",
    "        - Expert interview synthesis\n",
    "        - Trend analysis and future predictions\n",
    "        - Complex topic simplification\n",
    "        - Ethical journalism practices\n",
    "        - Balanced perspective presentation\n",
    "        - Global context integration\\\n",
    "    \"\"\"),\n",
    "    instructions=dedent(\"\"\"\\\n",
    "        1. Research Phase 🔍\n",
    "           - Search for 10+ authoritative sources on the topic\n",
    "           - Prioritize recent publications and expert opinions\n",
    "           - Identify key stakeholders and perspectives\n",
    "\n",
    "        2. Analysis Phase 📊\n",
    "           - Extract and verify critical information\n",
    "           - Cross-reference facts across multiple sources\n",
    "           - Identify emerging patterns and trends\n",
    "           - Evaluate conflicting viewpoints\n",
    "\n",
    "        3. Writing Phase ✍️\n",
    "           - Craft an attention-grabbing headline\n",
    "           - Structure content in NYT style\n",
    "           - Include relevant quotes and statistics\n",
    "           - Maintain objectivity and balance\n",
    "           - Explain complex concepts clearly\n",
    "\n",
    "        4. Quality Control ✓\n",
    "           - Verify all facts and attributions\n",
    "           - Ensure narrative flow and readability\n",
    "           - Add context where necessary\n",
    "           - Include future implications\n",
    "    \"\"\"),\n",
    "    expected_output=dedent(\"\"\"\\\n",
    "        # {Compelling Headline} 📰\n",
    "\n",
    "        ## Executive Summary\n",
    "        {Concise overview of key findings and significance}\n",
    "\n",
    "        ## Background & Context\n",
    "        {Historical context and importance}\n",
    "        {Current landscape overview}\n",
    "\n",
    "        ## Key Findings\n",
    "        {Main discoveries and analysis}\n",
    "        {Expert insights and quotes}\n",
    "        {Statistical evidence}\n",
    "\n",
    "        ## Impact Analysis\n",
    "        {Current implications}\n",
    "        {Stakeholder perspectives}\n",
    "        {Industry/societal effects}\n",
    "\n",
    "        ## Future Outlook\n",
    "        {Emerging trends}\n",
    "        {Expert predictions}\n",
    "        {Potential challenges and opportunities}\n",
    "\n",
    "        ## Expert Insights\n",
    "        {Notable quotes and analysis from industry leaders}\n",
    "        {Contrasting viewpoints}\n",
    "\n",
    "        ## Sources & Methodology\n",
    "        {List of primary sources with key contributions}\n",
    "        {Research methodology overview}\n",
    "\n",
    "        ---\n",
    "        Research conducted by AI Investigative Journalist\n",
    "        New York Times Style Report\n",
    "        Published: {current_date}\n",
    "        Last Updated: {current_time}\\\n",
    "    \"\"\"),\n",
    "    markdown=True,\n",
    "    show_tool_calls=True,\n",
    "    add_datetime_to_instructions=True,\n",
    ")\n"
   ]
  },
  {
   "cell_type": "code",
   "execution_count": 32,
   "id": "e5172abb",
   "metadata": {},
   "outputs": [
    {
     "name": "stderr",
     "output_type": "stream",
     "text": [
      "c:\\Shark_Stack\\Projects\\AI Blog Writer\\venv\\Lib\\site-packages\\agno\\tools\\duckduckgo.py:71: RuntimeWarning: This package (`duckduckgo_search`) has been renamed to `ddgs`! Use `pip install ddgs` instead.\n",
      "  ddgs = DDGS(\n"
     ]
    }
   ],
   "source": [
    "topic = \"current state of quantum computing worldwide\"\n",
    "    # Research Phase: Agent should first call search tool for the topic\n",
    "# prompt = (\n",
    "#     f\"Research Phase:\"\n",
    "#     f\"Use your DuckDuckGoTools to search for the topic '{topic}'.\"\n",
    "#     f\"Then write an in-depth blog post on the {topic}, using the gathered information.\"\n",
    "#     f\"Structure the post with an introduction, deep-dive sections, step-by-step guides, pro tips, FAQs, and references.\"\n",
    "#     )\n",
    "response = blog_agent.run(topic, stream=False)"
   ]
  },
  {
   "cell_type": "code",
   "execution_count": null,
   "id": "2e52062c",
   "metadata": {},
   "outputs": [
    {
     "data": {
      "application/vnd.jupyter.widget-view+json": {
       "model_id": "2a4d1f55ef9c497f969067004ade397d",
       "version_major": 2,
       "version_minor": 0
      },
      "text/plain": [
       "Output()"
      ]
     },
     "metadata": {},
     "output_type": "display_data"
    }
   ],
   "source": [
    "blog_agent.print_response(\n",
    "        'current state of quantum computing worldwide',\n",
    "        stream=True,\n",
    "    )"
   ]
  },
  {
   "cell_type": "code",
   "execution_count": null,
   "id": "44c72a78",
   "metadata": {},
   "outputs": [],
   "source": []
  }
 ],
 "metadata": {
  "kernelspec": {
   "display_name": "venv",
   "language": "python",
   "name": "python3"
  },
  "language_info": {
   "codemirror_mode": {
    "name": "ipython",
    "version": 3
   },
   "file_extension": ".py",
   "mimetype": "text/x-python",
   "name": "python",
   "nbconvert_exporter": "python",
   "pygments_lexer": "ipython3",
   "version": "3.12.7"
  }
 },
 "nbformat": 4,
 "nbformat_minor": 5
}
